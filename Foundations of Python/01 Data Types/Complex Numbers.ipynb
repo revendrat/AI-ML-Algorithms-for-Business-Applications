{
 "cells": [
  {
   "cell_type": "markdown",
   "id": "85faef7a",
   "metadata": {},
   "source": [
    "## Complex Numbers Data Types\n",
    "* Python provides basic support to complex numbers. \n",
    "* Recommend to use Numpy module for operations on complex numbers\n",
    "* Complex numbers represented using \"j\" or \"J\"\n",
    "* Use a numeric value before j, so that Python recognises it as a complex data type\n",
    "* In case using j or J is difficult to represent complex numbers, then use the function complex() to represent complex numbers \n",
    "* Use \"real\" to extract real numbers from complex numbers\n",
    "* Use \"imag\" to extract imaginary part from complex numbers"
   ]
  },
  {
   "cell_type": "code",
   "execution_count": null,
   "id": "6de98f90",
   "metadata": {},
   "outputs": [],
   "source": [
    "# The below line of code throws an error as 'j' is not defined\n",
    "type(j)\n"
   ]
  },
  {
   "cell_type": "code",
   "execution_count": null,
   "id": "64a18cdc",
   "metadata": {},
   "outputs": [],
   "source": [
    "# now try this with a number attached to complex form 'j'\n",
    "type(1j) #or\n",
    "type (1-2j)"
   ]
  },
  {
   "cell_type": "code",
   "execution_count": null,
   "id": "af1945bb",
   "metadata": {},
   "outputs": [],
   "source": [
    "1-2j # is same as\n",
    "complex(1,-2)"
   ]
  },
  {
   "cell_type": "code",
   "execution_count": null,
   "id": "829fc5f3",
   "metadata": {},
   "outputs": [],
   "source": [
    "cnum = 1-2j\n",
    "print(cnum.real)\n",
    "print(cnum.imag)"
   ]
  },
  {
   "cell_type": "markdown",
   "id": "06740376",
   "metadata": {},
   "source": [
    "### Operations on complex numbers\n",
    "* Addition\n",
    "* Subtraction\n",
    "* Multiplication\n",
    "* Division"
   ]
  },
  {
   "cell_type": "code",
   "execution_count": null,
   "id": "7bcbfa23",
   "metadata": {},
   "outputs": [],
   "source": [
    "# Addition\n",
    "1+2j+2-3j"
   ]
  },
  {
   "cell_type": "code",
   "execution_count": null,
   "id": "cda1a078",
   "metadata": {},
   "outputs": [],
   "source": [
    "# Addition\n",
    "complex(1+2j) + complex(2-3j)"
   ]
  },
  {
   "cell_type": "code",
   "execution_count": null,
   "id": "7b7ab56c",
   "metadata": {},
   "outputs": [],
   "source": [
    "# Subtraction\n",
    "1+2j-(2-3j) "
   ]
  },
  {
   "cell_type": "code",
   "execution_count": null,
   "id": "6d7c4959",
   "metadata": {},
   "outputs": [],
   "source": [
    "# Subtraction\n",
    "complex(1+2j) - complex(2-3j)"
   ]
  },
  {
   "cell_type": "code",
   "execution_count": null,
   "id": "3189c0bf",
   "metadata": {},
   "outputs": [],
   "source": [
    "# Multiplication\n",
    "(1+2j)*(2-3j) "
   ]
  },
  {
   "cell_type": "code",
   "execution_count": null,
   "id": "3e8f0bc9",
   "metadata": {},
   "outputs": [],
   "source": [
    "# Multiplication\n",
    "complex(1+2j) * complex(2-3j)"
   ]
  },
  {
   "cell_type": "code",
   "execution_count": null,
   "id": "954cb652",
   "metadata": {},
   "outputs": [],
   "source": [
    "# Division\n",
    "(1+1j)/(2+4j) "
   ]
  },
  {
   "cell_type": "code",
   "execution_count": null,
   "id": "be12f479",
   "metadata": {},
   "outputs": [],
   "source": [
    "# Division\n",
    "complex(1+1j) / complex(2+4j)"
   ]
  },
  {
   "cell_type": "code",
   "execution_count": null,
   "id": "cd596504",
   "metadata": {},
   "outputs": [],
   "source": [
    "# Absolute value of a complex number\n",
    "abs(3+4j) # is equivalent to (3+4j)*(3-4j)"
   ]
  },
  {
   "cell_type": "code",
   "execution_count": null,
   "id": "31fb2bf1",
   "metadata": {},
   "outputs": [],
   "source": [
    "(3+4j)*(3-4j)"
   ]
  }
 ],
 "metadata": {
  "interpreter": {
   "hash": "6d46af94c2bbce495f1e668725902fa517c90b1782bcfe2fce0dd9868df553d3"
  },
  "kernelspec": {
   "display_name": "Python 3.8.8 64-bit ('base': conda)",
   "name": "python3"
  },
  "language_info": {
   "name": "python",
   "version": "3.8.8"
  },
  "orig_nbformat": 4
 },
 "nbformat": 4,
 "nbformat_minor": 2
}
