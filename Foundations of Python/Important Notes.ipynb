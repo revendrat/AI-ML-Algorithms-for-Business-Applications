{
 "cells": [
  {
   "cell_type": "markdown",
   "id": "e9dc4d19",
   "metadata": {},
   "source": [
    "## Note 1: Dynamic assignment of values to variables\n",
    "* Python is dynamically typed, and does not require declaring variables before assigning values\n",
    "\n",
    "### Illustration\n",
    "* Calculate area of a rectangle\n",
    "* side a = 10\n",
    "* side b = 5\n",
    "* area = a*b (Calculate)"
   ]
  },
  {
   "cell_type": "code",
   "execution_count": 1,
   "id": "b3e50da5",
   "metadata": {},
   "outputs": [
    {
     "data": {
      "text/plain": [
       "50"
      ]
     },
     "execution_count": 1,
     "metadata": {},
     "output_type": "execute_result"
    }
   ],
   "source": [
    "a = 10\n",
    "b = 5\n",
    "# area of rectangle\n",
    "a*b"
   ]
  },
  {
   "cell_type": "markdown",
   "id": "88634277",
   "metadata": {},
   "source": [
    "## Note 2: Errors in Python\n",
    "Two types:\n",
    "    * Syntax errors\n",
    "    * Run-time errors\n",
    "Both the errors are illustrated "
   ]
  },
  {
   "cell_type": "code",
   "execution_count": 7,
   "id": "3ab5a3f6",
   "metadata": {},
   "outputs": [
    {
     "ename": "SyntaxError",
     "evalue": "unexpected EOF while parsing (<ipython-input-7-c755c80b390d>, line 4)",
     "output_type": "error",
     "traceback": [
      "\u001b[1;36m  File \u001b[1;32m\"<ipython-input-7-c755c80b390d>\"\u001b[1;36m, line \u001b[1;32m4\u001b[0m\n\u001b[1;33m    #In the above line of code, the syntax error is due to unclosed paranthesis\u001b[0m\n\u001b[1;37m                                                                               ^\u001b[0m\n\u001b[1;31mSyntaxError\u001b[0m\u001b[1;31m:\u001b[0m unexpected EOF while parsing\n"
     ]
    }
   ],
   "source": [
    "# Illustration of syntax errors\n",
    "x = 5\n",
    "print(x\n",
    "#In the above line of code, the syntax error is due to unclosed paranthesis"
   ]
  },
  {
   "cell_type": "code",
   "execution_count": 8,
   "id": "0519f579",
   "metadata": {},
   "outputs": [
    {
     "ename": "NameError",
     "evalue": "name 'y' is not defined",
     "output_type": "error",
     "traceback": [
      "\u001b[1;31m---------------------------------------------------------------------------\u001b[0m",
      "\u001b[1;31mNameError\u001b[0m                                 Traceback (most recent call last)",
      "\u001b[1;32m<ipython-input-8-402d3ac850b7>\u001b[0m in \u001b[0;36m<module>\u001b[1;34m\u001b[0m\n\u001b[0;32m      1\u001b[0m \u001b[1;31m# Illustration of run-time errors\u001b[0m\u001b[1;33m\u001b[0m\u001b[1;33m\u001b[0m\u001b[1;33m\u001b[0m\u001b[0m\n\u001b[0;32m      2\u001b[0m \u001b[0mx\u001b[0m \u001b[1;33m=\u001b[0m \u001b[1;36m5\u001b[0m\u001b[1;33m\u001b[0m\u001b[1;33m\u001b[0m\u001b[0m\n\u001b[1;32m----> 3\u001b[1;33m \u001b[0mz\u001b[0m \u001b[1;33m=\u001b[0m \u001b[0mx\u001b[0m\u001b[1;33m*\u001b[0m\u001b[0my\u001b[0m\u001b[1;33m\u001b[0m\u001b[1;33m\u001b[0m\u001b[0m\n\u001b[0m\u001b[0;32m      4\u001b[0m \u001b[1;31m# run time error occurs because y is unknown to Python environment\u001b[0m\u001b[1;33m\u001b[0m\u001b[1;33m\u001b[0m\u001b[1;33m\u001b[0m\u001b[0m\n",
      "\u001b[1;31mNameError\u001b[0m: name 'y' is not defined"
     ]
    }
   ],
   "source": [
    "# Illustration of run-time errors\n",
    "x = 5\n",
    "z = x*y \n",
    "# run time error occurs because y is unknown to Python environment"
   ]
  },
  {
   "cell_type": "code",
   "execution_count": null,
   "id": "4340b9ee",
   "metadata": {},
   "outputs": [],
   "source": []
  }
 ],
 "metadata": {
  "kernelspec": {
   "display_name": "Python 3",
   "language": "python",
   "name": "python3"
  },
  "language_info": {
   "codemirror_mode": {
    "name": "ipython",
    "version": 3
   },
   "file_extension": ".py",
   "mimetype": "text/x-python",
   "name": "python",
   "nbconvert_exporter": "python",
   "pygments_lexer": "ipython3",
   "version": "3.8.8"
  }
 },
 "nbformat": 4,
 "nbformat_minor": 5
}
