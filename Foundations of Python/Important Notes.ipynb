{
 "cells": [
  {
   "cell_type": "markdown",
   "id": "e9dc4d19",
   "metadata": {},
   "source": [
    "## Note 1: Dynamic assignment of values to variables\n",
    "* Python is dynamically typed, and does not require declaring variables before assigning values\n",
    "\n",
    "### Illustration\n",
    "* Calculate area of a rectangle\n",
    "* side a = 10\n",
    "* side b = 5\n",
    "* area = a*b (Calculate)"
   ]
  },
  {
   "cell_type": "code",
   "execution_count": 1,
   "id": "b3e50da5",
   "metadata": {},
   "outputs": [
    {
     "data": {
      "text/plain": [
       "50"
      ]
     },
     "execution_count": 1,
     "metadata": {},
     "output_type": "execute_result"
    }
   ],
   "source": [
    "a = 10\n",
    "b = 5\n",
    "# area of rectangle\n",
    "a*b"
   ]
  },
  {
   "cell_type": "markdown",
   "id": "88634277",
   "metadata": {},
   "source": [
    "## Note 2: Errors in Python\n",
    "Two types:\n",
    "    * Syntax errors\n",
    "    * Run-time errors\n",
    "Both the errors are illustrated "
   ]
  },
  {
   "cell_type": "code",
   "execution_count": 7,
   "id": "3ab5a3f6",
   "metadata": {},
   "outputs": [
    {
     "ename": "SyntaxError",
     "evalue": "unexpected EOF while parsing (<ipython-input-7-c755c80b390d>, line 4)",
     "output_type": "error",
     "traceback": [
      "\u001B[1;36m  File \u001B[1;32m\"<ipython-input-7-c755c80b390d>\"\u001B[1;36m, line \u001B[1;32m4\u001B[0m\n\u001B[1;33m    #In the above line of code, the syntax error is due to unclosed paranthesis\u001B[0m\n\u001B[1;37m                                                                               ^\u001B[0m\n\u001B[1;31mSyntaxError\u001B[0m\u001B[1;31m:\u001B[0m unexpected EOF while parsing\n"
     ]
    }
   ],
   "source": [
    "# Illustration of syntax errors\n",
    "x = 5\n",
    "print(x\n",
    "#In the above line of code, the syntax error is due to unclosed paranthesis"
   ]
  },
  {
   "cell_type": "code",
   "execution_count": 8,
   "id": "0519f579",
   "metadata": {},
   "outputs": [
    {
     "ename": "NameError",
     "evalue": "name 'y' is not defined",
     "output_type": "error",
     "traceback": [
      "\u001B[1;31m---------------------------------------------------------------------------\u001B[0m",
      "\u001B[1;31mNameError\u001B[0m                                 Traceback (most recent call last)",
      "\u001B[1;32m<ipython-input-8-402d3ac850b7>\u001B[0m in \u001B[0;36m<module>\u001B[1;34m\u001B[0m\n\u001B[0;32m      1\u001B[0m \u001B[1;31m# Illustration of run-time errors\u001B[0m\u001B[1;33m\u001B[0m\u001B[1;33m\u001B[0m\u001B[1;33m\u001B[0m\u001B[0m\n\u001B[0;32m      2\u001B[0m \u001B[0mx\u001B[0m \u001B[1;33m=\u001B[0m \u001B[1;36m5\u001B[0m\u001B[1;33m\u001B[0m\u001B[1;33m\u001B[0m\u001B[0m\n\u001B[1;32m----> 3\u001B[1;33m \u001B[0mz\u001B[0m \u001B[1;33m=\u001B[0m \u001B[0mx\u001B[0m\u001B[1;33m*\u001B[0m\u001B[0my\u001B[0m\u001B[1;33m\u001B[0m\u001B[1;33m\u001B[0m\u001B[0m\n\u001B[0m\u001B[0;32m      4\u001B[0m \u001B[1;31m# run time error occurs because y is unknown to Python environment\u001B[0m\u001B[1;33m\u001B[0m\u001B[1;33m\u001B[0m\u001B[1;33m\u001B[0m\u001B[0m\n",
      "\u001B[1;31mNameError\u001B[0m: name 'y' is not defined"
     ]
    }
   ],
   "source": [
    "# Illustration of run-time errors\n",
    "x = 5\n",
    "z = x*y \n",
    "# run time error occurs because y is unknown to Python environment"
   ]
  },
  {
   "cell_type": "markdown",
   "id": "4340b9ee",
   "metadata": {
    "pycharm": {
     "name": "#%% md\n"
    }
   },
   "source": [
    "Control strings with a character before the single or double quotes in Python strings\n",
    "* use \"r'\" to create a raw string\n",
    "* use \"u\" to create a unicode string\n",
    "* f-string evaluates the Python variables in current scope of execution\n",
    "\n",
    "Illustrations given below/"
   ]
  },
  {
   "cell_type": "code",
   "execution_count": 1,
   "outputs": [
    {
     "name": "stdout",
     "output_type": "stream",
     "text": [
      " make raw string with r, \n",
      " suppresses new line character\n"
     ]
    }
   ],
   "source": [
    "# use \"r'\" to create a raw string\n",
    "# without control string \"r\", does not suppress new line\n",
    "string = \"make raw string with r, \\n suppresses new line character\"\n",
    "print(string)"
   ],
   "metadata": {
    "collapsed": false,
    "pycharm": {
     "name": "#%%\n"
    }
   }
  },
  {
   "cell_type": "code",
   "execution_count": 2,
   "outputs": [
    {
     "name": "stdout",
     "output_type": "stream",
     "text": [
      "make raw string with r, \\n suppresses new line character\n"
     ]
    }
   ],
   "source": [
    "# with control string \"r\", suppresses new line\n",
    "string = r\"make raw string with r, \\n suppresses new line character\"\n",
    "print(string)"
   ],
   "metadata": {
    "collapsed": false,
    "pycharm": {
     "name": "#%%\n"
    }
   }
  },
  {
   "cell_type": "code",
   "execution_count": 3,
   "outputs": [
    {
     "name": "stdout",
     "output_type": "stream",
     "text": [
      "μ for mean, and σ for standard deviation\n"
     ]
    }
   ],
   "source": [
    "# use \"u\" to create a unicode string\n",
    "# without \"u\", one should use special characters\n",
    "string1 = \"μ for mean, and σ for standard deviation\"\n",
    "print(string1)"
   ],
   "metadata": {
    "collapsed": false,
    "pycharm": {
     "name": "#%%\n"
    }
   }
  },
  {
   "cell_type": "code",
   "execution_count": 4,
   "outputs": [
    {
     "name": "stdout",
     "output_type": "stream",
     "text": [
      "μ for mean, and σ for standard deviation\n"
     ]
    }
   ],
   "source": [
    "# with \"u\" to create unicode\n",
    "string2 = u\"\\u03BC for mean, and \\u03C3 for standard deviation\"\n",
    "print(string2)\n"
   ],
   "metadata": {
    "collapsed": false,
    "pycharm": {
     "name": "#%%\n"
    }
   }
  },
  {
   "cell_type": "code",
   "execution_count": null,
   "outputs": [],
   "source": [
    "# Illustrating f-string or (f or F)\n",
    "string1 = \"Learn\"\n",
    "string2 = \"algorithms\"\n",
    "string3 = \"problems\"\n",
    "f'{string1} programming. Apply AI {string2} to solve {string3}, and get an edge'\n"
   ],
   "metadata": {
    "collapsed": false,
    "pycharm": {
     "name": "#%%\n"
    }
   }
  }
 ],
 "metadata": {
  "kernelspec": {
   "name": "pycharm-1e90ec47",
   "language": "python",
   "display_name": "PyCharm (AI-ML-Algorithms-for-Business-Applications)"
  },
  "language_info": {
   "codemirror_mode": {
    "name": "ipython",
    "version": 3
   },
   "file_extension": ".py",
   "mimetype": "text/x-python",
   "name": "python",
   "nbconvert_exporter": "python",
   "pygments_lexer": "ipython3",
   "version": "3.8.8"
  }
 },
 "nbformat": 4,
 "nbformat_minor": 5
}