{
 "cells": [
  {
   "cell_type": "markdown",
   "id": "36c2796d",
   "metadata": {},
   "source": [
    "## Note 1:\n",
    "* Python is dynamically typed, and does not require declaring variables before assigning values\n",
    "\n",
    "### Illustration\n",
    "* Calculate area of a rectangle\n",
    "* side a = 10\n",
    "* side b = 5\n",
    "* area = a*b (Calculate)"
   ]
  },
  {
   "cell_type": "code",
   "execution_count": 1,
   "id": "f3324a85",
   "metadata": {},
   "outputs": [
    {
     "data": {
      "text/plain": [
       "50"
      ]
     },
     "execution_count": 1,
     "metadata": {},
     "output_type": "execute_result"
    }
   ],
   "source": [
    "a = 10\n",
    "b = 5\n",
    "# area of rectangle\n",
    "a*b"
   ]
  },
  {
   "cell_type": "code",
   "execution_count": null,
   "id": "6aba0e84",
   "metadata": {},
   "outputs": [],
   "source": []
  }
 ],
 "metadata": {
  "kernelspec": {
   "display_name": "Python 3",
   "language": "python",
   "name": "python3"
  },
  "language_info": {
   "codemirror_mode": {
    "name": "ipython",
    "version": 3
   },
   "file_extension": ".py",
   "mimetype": "text/x-python",
   "name": "python",
   "nbconvert_exporter": "python",
   "pygments_lexer": "ipython3",
   "version": "3.8.8"
  }
 },
 "nbformat": 4,
 "nbformat_minor": 5
}
