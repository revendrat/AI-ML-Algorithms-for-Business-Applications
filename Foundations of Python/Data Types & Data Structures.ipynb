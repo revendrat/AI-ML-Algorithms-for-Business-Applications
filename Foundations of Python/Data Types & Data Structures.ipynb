{
 "cells": [
  {
   "cell_type": "markdown",
   "id": "9dc49deb",
   "metadata": {},
   "source": [
    "# Foundations of Python\n",
    "\n",
    "1.   Data Types & Data Structures\n",
    "2.   Basic Operations\n",
    "3.   Functions & Packages"
   ]
  },
  {
   "cell_type": "markdown",
   "id": "ac7031e2",
   "metadata": {},
   "source": [
    "## Agenda on Topic 1 Data Types & Data Structures:\n",
    "\n",
    "1.   Check the version of installed Python\n",
    "2.   Know the keywords of Python <br/>    2.1 Do not use keywords as variables, or function names, or module names\n",
    "3.   Data Types <br>\n",
    "  3.1 Numbers <br>\n",
    "  3.2 Strings <br>\n",
    "  3.3 Complex Numbers<br>\n",
    "  3.4 <br>\n",
    "4. Operations <br>\n",
    "  4.1 Arithmetic <br>\n",
    "  4.2 Assignment <br>\n",
    "  4.3 Comparison <br>\n",
    "  4.4 Logical <br>\n",
    "  4.5 Bitwise <br>\n",
    "  4.6 Identity <br>\n",
    "  4.7 Membership <br>\n",
    "5. Data Structures <br>\n",
    "  5.1 Lists <br>\n",
    "  5.2 Tuples <br>\n",
    "  5.3 Dictionaries <br>\n",
    "  5.4 Sets <br>"
   ]
  },
  {
   "cell_type": "code",
   "execution_count": 2,
   "id": "bd98518f",
   "metadata": {},
   "outputs": [
    {
     "name": "stdout",
     "output_type": "stream",
     "text": [
      "Python 3.8.8\n"
     ]
    }
   ],
   "source": [
    "#Check the python version\n",
    "!python --version"
   ]
  },
  {
   "cell_type": "code",
   "execution_count": 3,
   "id": "1c657d91",
   "metadata": {},
   "outputs": [
    {
     "name": "stdout",
     "output_type": "stream",
     "text": [
      "['False', 'None', 'True', 'and', 'as', 'assert', 'async', 'await', 'break', 'class', 'continue', 'def', 'del', 'elif', 'else', 'except', 'finally', 'for', 'from', 'global', 'if', 'import', 'in', 'is', 'lambda', 'nonlocal', 'not', 'or', 'pass', 'raise', 'return', 'try', 'while', 'with', 'yield']\n"
     ]
    }
   ],
   "source": [
    "# List of keywords are available from the keyword module\n",
    "import keyword\n",
    "print(keyword.kwlist)"
   ]
  },
  {
   "cell_type": "markdown",
   "id": "190db4bb",
   "metadata": {},
   "source": [
    "## Numeric Data Types\n",
    "* Integers\n",
    "* Real numbers"
   ]
  },
  {
   "cell_type": "code",
   "execution_count": 17,
   "id": "7b3067d9",
   "metadata": {},
   "outputs": [
    {
     "name": "stdout",
     "output_type": "stream",
     "text": [
      "66\n",
      "67.0\n",
      "<class 'int'>\n",
      "<class 'float'>\n"
     ]
    }
   ],
   "source": [
    "#Converts a real number (float) to an integer\n",
    "print(int(66.6666666666))\n",
    "\n",
    "#Converts an integer to a real number (float)\n",
    "print(float(67))\n",
    "\n",
    "# Check the data type using \"type\" function\n",
    "## Results in integer data type\n",
    "print(type(66))\n",
    "\n",
    "## Results in a real number (float) data type\n",
    "print(type(float(67)))\n"
   ]
  },
  {
   "cell_type": "code",
   "execution_count": null,
   "id": "25fdd13a",
   "metadata": {},
   "outputs": [],
   "source": []
  },
  {
   "cell_type": "markdown",
   "id": "8ae59ad0",
   "metadata": {},
   "source": [
    "### Numbers and Arithmetic\n",
    "  * \"+\" for addition\n",
    "  * \"-\" for substraction\n",
    "  * \"*\" multiplication\n",
    "  * \"/\" division\n",
    "  * \"**\" or pow() for exponentiation\n",
    "  * \"%\" modulus to extract remainder\n",
    "  * \"//\" floor division to extract quotient\n"
   ]
  },
  {
   "cell_type": "code",
   "execution_count": 4,
   "id": "f17b8bd5",
   "metadata": {},
   "outputs": [
    {
     "data": {
      "text/plain": [
       "10"
      ]
     },
     "execution_count": 4,
     "metadata": {},
     "output_type": "execute_result"
    }
   ],
   "source": [
    "# addition using \"+\"\n",
    "3+7"
   ]
  },
  {
   "cell_type": "code",
   "execution_count": 5,
   "id": "e1c660dd",
   "metadata": {},
   "outputs": [
    {
     "data": {
      "text/plain": [
       "2"
      ]
     },
     "execution_count": 5,
     "metadata": {},
     "output_type": "execute_result"
    }
   ],
   "source": [
    "# subtraction using \"-\"\n",
    "9-7"
   ]
  },
  {
   "cell_type": "code",
   "execution_count": 6,
   "id": "ba1374e3",
   "metadata": {},
   "outputs": [
    {
     "data": {
      "text/plain": [
       "56"
      ]
     },
     "execution_count": 6,
     "metadata": {},
     "output_type": "execute_result"
    }
   ],
   "source": [
    "# multiplication using \"*\"\n",
    "7*8"
   ]
  },
  {
   "cell_type": "code",
   "execution_count": 7,
   "id": "86cc8ae2",
   "metadata": {},
   "outputs": [
    {
     "data": {
      "text/plain": [
       "6.0"
      ]
     },
     "execution_count": 7,
     "metadata": {},
     "output_type": "execute_result"
    }
   ],
   "source": [
    "# division using \"/\"\n",
    "18/3"
   ]
  },
  {
   "cell_type": "code",
   "execution_count": 10,
   "id": "a3c126e6",
   "metadata": {},
   "outputs": [
    {
     "data": {
      "text/plain": [
       "4"
      ]
     },
     "execution_count": 10,
     "metadata": {},
     "output_type": "execute_result"
    }
   ],
   "source": [
    "# integer division through double slash\n",
    "# results in quotient\n",
    "9//2"
   ]
  },
  {
   "cell_type": "code",
   "execution_count": 14,
   "id": "52983197",
   "metadata": {},
   "outputs": [
    {
     "data": {
      "text/plain": [
       "6"
      ]
     },
     "execution_count": 14,
     "metadata": {},
     "output_type": "execute_result"
    }
   ],
   "source": [
    "# modulus results in remainder\n",
    "9%2\n",
    "13%7"
   ]
  },
  {
   "cell_type": "markdown",
   "id": "b9f70cb6",
   "metadata": {},
   "source": [
    "#### Using multiple arithmetic operators\n",
    "$FV= (PV*(1+r/n)^{nt})$ <br>\n",
    "where: <br>\n",
    "* PV = present value of money (say 1000 rupees)\n",
    "* FV = future value of money (to be calculated)\n",
    "* r = interest rate (say 6.25%)\n",
    "* n = number of compounding periods (semi-anually)\n",
    "* t = number of years (5 years)"
   ]
  },
  {
   "cell_type": "code",
   "execution_count": 8,
   "id": "22ef8172",
   "metadata": {},
   "outputs": [
    {
     "data": {
      "text/plain": [
       "1360.3154027780997"
      ]
     },
     "execution_count": 8,
     "metadata": {},
     "output_type": "execute_result"
    }
   ],
   "source": [
    "# Calculation of future value using ** for exponentiation\n",
    "1000*(1+0.0625/2)**(2*5) "
   ]
  },
  {
   "cell_type": "code",
   "execution_count": 9,
   "id": "02220214",
   "metadata": {},
   "outputs": [
    {
     "data": {
      "text/plain": [
       "1360.3154027780997"
      ]
     },
     "execution_count": 9,
     "metadata": {},
     "output_type": "execute_result"
    }
   ],
   "source": [
    "# Calculation of future value using pow() for exponentiation\n",
    "1000*pow((1+0.0625/2), 2*5)"
   ]
  },
  {
   "cell_type": "code",
   "execution_count": null,
   "id": "86d66960",
   "metadata": {},
   "outputs": [],
   "source": []
  },
  {
   "cell_type": "markdown",
   "id": "85faef7a",
   "metadata": {},
   "source": [
    "## Complex Numbers Data Types\n",
    "* Python provides basic support to complex numbers. \n",
    "* Recommend to use Numpy module for operations on complex numbers\n",
    "* Complex numbers represented using \"j\" or \"J\"\n",
    "* Use a numeric value before j, so that Python recognises it as a complex data type\n",
    "* In case using j or J is difficult to represent complex numbers, then use the function complex() to represent complex numbers \n",
    "* Use \"real\" to extract real numbers from complex numbers\n",
    "* Use \"imag\" to extract imaginary part from complex numbers"
   ]
  },
  {
   "cell_type": "code",
   "execution_count": 27,
   "id": "6de98f90",
   "metadata": {},
   "outputs": [
    {
     "ename": "NameError",
     "evalue": "name 'j' is not defined",
     "output_type": "error",
     "traceback": [
      "\u001B[1;31m---------------------------------------------------------------------------\u001B[0m",
      "\u001B[1;31mNameError\u001B[0m                                 Traceback (most recent call last)",
      "\u001B[1;32m<ipython-input-27-710b290cc070>\u001B[0m in \u001B[0;36m<module>\u001B[1;34m\u001B[0m\n\u001B[0;32m      1\u001B[0m \u001B[1;31m# The below line of code fails as 'j' is not defined\u001B[0m\u001B[1;33m\u001B[0m\u001B[1;33m\u001B[0m\u001B[1;33m\u001B[0m\u001B[0m\n\u001B[1;32m----> 2\u001B[1;33m \u001B[0mtype\u001B[0m\u001B[1;33m(\u001B[0m\u001B[0mj\u001B[0m\u001B[1;33m)\u001B[0m\u001B[1;33m\u001B[0m\u001B[1;33m\u001B[0m\u001B[0m\n\u001B[0m",
      "\u001B[1;31mNameError\u001B[0m: name 'j' is not defined"
     ]
    }
   ],
   "source": [
    "# The below line of code throws an error as 'j' is not defined\n",
    "type(j)\n"
   ]
  },
  {
   "cell_type": "code",
   "execution_count": 28,
   "id": "64a18cdc",
   "metadata": {},
   "outputs": [
    {
     "data": {
      "text/plain": [
       "complex"
      ]
     },
     "execution_count": 28,
     "metadata": {},
     "output_type": "execute_result"
    }
   ],
   "source": [
    "# now try this with a number attached to complex form 'j'\n",
    "type(1j) #or\n",
    "type (1-2j)"
   ]
  },
  {
   "cell_type": "code",
   "execution_count": 29,
   "id": "af1945bb",
   "metadata": {},
   "outputs": [
    {
     "data": {
      "text/plain": [
       "(1-2j)"
      ]
     },
     "execution_count": 29,
     "metadata": {},
     "output_type": "execute_result"
    }
   ],
   "source": [
    "1-2j # is same as\n",
    "complex(1,-2)"
   ]
  },
  {
   "cell_type": "code",
   "execution_count": 31,
   "id": "829fc5f3",
   "metadata": {},
   "outputs": [
    {
     "name": "stdout",
     "output_type": "stream",
     "text": [
      "1.0\n",
      "-2.0\n"
     ]
    }
   ],
   "source": [
    "cnum = 1-2j\n",
    "print(cnum.real)\n",
    "print(cnum.imag)"
   ]
  },
  {
   "cell_type": "markdown",
   "id": "06740376",
   "metadata": {},
   "source": [
    "### Operations on complex numbers\n",
    "* Addition\n",
    "* Subtraction\n",
    "* Multiplication\n",
    "* Division"
   ]
  },
  {
   "cell_type": "code",
   "execution_count": 33,
   "id": "7bcbfa23",
   "metadata": {},
   "outputs": [
    {
     "data": {
      "text/plain": [
       "(3-1j)"
      ]
     },
     "execution_count": 33,
     "metadata": {},
     "output_type": "execute_result"
    }
   ],
   "source": [
    "# Addition\n",
    "1+2j+2-3j"
   ]
  },
  {
   "cell_type": "code",
   "execution_count": 34,
   "id": "cda1a078",
   "metadata": {},
   "outputs": [
    {
     "data": {
      "text/plain": [
       "(3-1j)"
      ]
     },
     "execution_count": 34,
     "metadata": {},
     "output_type": "execute_result"
    }
   ],
   "source": [
    "# Addition\n",
    "complex(1+2j) + complex(2-3j)"
   ]
  },
  {
   "cell_type": "code",
   "execution_count": 36,
   "id": "7b7ab56c",
   "metadata": {},
   "outputs": [
    {
     "data": {
      "text/plain": [
       "(-1+5j)"
      ]
     },
     "execution_count": 36,
     "metadata": {},
     "output_type": "execute_result"
    }
   ],
   "source": [
    "# Subtraction\n",
    "1+2j-(2-3j) "
   ]
  },
  {
   "cell_type": "code",
   "execution_count": null,
   "id": "6d7c4959",
   "metadata": {},
   "outputs": [],
   "source": [
    "# Subtraction\n",
    "complex(1+2j) - complex(2-3j)"
   ]
  },
  {
   "cell_type": "code",
   "execution_count": 39,
   "id": "3189c0bf",
   "metadata": {},
   "outputs": [
    {
     "data": {
      "text/plain": [
       "(8+1j)"
      ]
     },
     "execution_count": 39,
     "metadata": {},
     "output_type": "execute_result"
    }
   ],
   "source": [
    "# Multiplication\n",
    "(1+2j)*(2-3j) "
   ]
  },
  {
   "cell_type": "code",
   "execution_count": 38,
   "id": "3e8f0bc9",
   "metadata": {},
   "outputs": [
    {
     "data": {
      "text/plain": [
       "(8+1j)"
      ]
     },
     "execution_count": 38,
     "metadata": {},
     "output_type": "execute_result"
    }
   ],
   "source": [
    "# Multiplication\n",
    "complex(1+2j) * complex(2-3j)"
   ]
  },
  {
   "cell_type": "code",
   "execution_count": 45,
   "id": "954cb652",
   "metadata": {},
   "outputs": [
    {
     "data": {
      "text/plain": [
       "(0.3-0.1j)"
      ]
     },
     "execution_count": 45,
     "metadata": {},
     "output_type": "execute_result"
    }
   ],
   "source": [
    "# Division\n",
    "(1+1j)/(2+4j) "
   ]
  },
  {
   "cell_type": "code",
   "execution_count": 47,
   "id": "be12f479",
   "metadata": {},
   "outputs": [
    {
     "data": {
      "text/plain": [
       "(0.3-0.1j)"
      ]
     },
     "execution_count": 47,
     "metadata": {},
     "output_type": "execute_result"
    }
   ],
   "source": [
    "# Division\n",
    "complex(1+1j) / complex(2+4j)"
   ]
  },
  {
   "cell_type": "code",
   "execution_count": 48,
   "id": "cd596504",
   "metadata": {},
   "outputs": [
    {
     "data": {
      "text/plain": [
       "5.0"
      ]
     },
     "execution_count": 48,
     "metadata": {},
     "output_type": "execute_result"
    }
   ],
   "source": [
    "# Absolute value of a complex number\n",
    "abs(3+4j) # is equivalent to (3+4j)*(3-4j)"
   ]
  },
  {
   "cell_type": "code",
   "execution_count": 49,
   "id": "31fb2bf1",
   "metadata": {},
   "outputs": [
    {
     "data": {
      "text/plain": [
       "(25+0j)"
      ]
     },
     "execution_count": 49,
     "metadata": {},
     "output_type": "execute_result"
    }
   ],
   "source": [
    "(3+4j)*(3-4j)"
   ]
  },
  {
   "cell_type": "markdown",
   "id": "17fda208",
   "metadata": {},
   "source": [
    "## Strings Data Type\n",
    "* Python handles strings with sophistication\n",
    "* Single or doble quotes define a string\n",
    "* Backslash \\ is considered as an escape character for strings in Python"
   ]
  },
  {
   "cell_type": "code",
   "execution_count": 50,
   "id": "8fc2b4b6",
   "metadata": {},
   "outputs": [
    {
     "data": {
      "text/plain": [
       "'hello'"
      ]
     },
     "execution_count": 50,
     "metadata": {},
     "output_type": "execute_result"
    }
   ],
   "source": [
    "'Hello'\n",
    "# the above line declares a string which is equivalent to declaration in the below line\n",
    "\"hello\""
   ]
  },
  {
   "cell_type": "code",
   "execution_count": 51,
   "id": "f519622e",
   "metadata": {},
   "outputs": [
    {
     "data": {
      "text/plain": [
       "'hello'"
      ]
     },
     "execution_count": 51,
     "metadata": {},
     "output_type": "execute_result"
    }
   ],
   "source": [
    "\"hello\""
   ]
  },
  {
   "cell_type": "code",
   "execution_count": 52,
   "id": "aa52eed0",
   "metadata": {},
   "outputs": [
    {
     "data": {
      "text/plain": [
       "'Insert \"double quote\" between two single quotes'"
      ]
     },
     "execution_count": 52,
     "metadata": {},
     "output_type": "execute_result"
    }
   ],
   "source": [
    "'Insert \"double quote\" between two single quotes'"
   ]
  },
  {
   "cell_type": "code",
   "execution_count": 54,
   "id": "88e41b58",
   "metadata": {},
   "outputs": [
    {
     "data": {
      "text/plain": [
       "'Insert \"double quote\" between two double quotes using an escape character'"
      ]
     },
     "execution_count": 54,
     "metadata": {},
     "output_type": "execute_result"
    }
   ],
   "source": [
    "\"Insert \\\"double quote\\\" between two double quotes using an escape character\""
   ]
  },
  {
   "cell_type": "code",
   "execution_count": 56,
   "id": "7917b7ea",
   "metadata": {},
   "outputs": [
    {
     "data": {
      "text/plain": [
       "\"How's it?\""
      ]
     },
     "execution_count": 56,
     "metadata": {},
     "output_type": "execute_result"
    }
   ],
   "source": [
    "# Use double quotes to inlcude single quote within a string\n",
    "\"How's it?\""
   ]
  },
  {
   "cell_type": "code",
   "execution_count": 61,
   "id": "e87a5997",
   "metadata": {},
   "outputs": [
    {
     "data": {
      "text/plain": [
       "\"How's it?\""
      ]
     },
     "execution_count": 61,
     "metadata": {},
     "output_type": "execute_result"
    }
   ],
   "source": [
    "# Use escape character to inlcude single quote within a string\n",
    "'How\\'s it?'"
   ]
  },
  {
   "cell_type": "code",
   "execution_count": 60,
   "id": "362d284a",
   "metadata": {},
   "outputs": [
    {
     "data": {
      "text/plain": [
       "'It\\'s, \"out!\"'"
      ]
     },
     "execution_count": 60,
     "metadata": {},
     "output_type": "execute_result"
    }
   ],
   "source": [
    "# Use the following format to include single quote as well as double quotes in a string.\n",
    "# Use escape character for a single quote, and leave double quotes as such\n",
    "'It\\'s, \"out!\"'"
   ]
  },
  {
   "cell_type": "markdown",
   "id": "abf7452a",
   "metadata": {
    "pycharm": {
     "name": "#%% md\n"
    }
   },
   "source": [
    "## Strings are immutable\n",
    "Immutable implies cannot be modified or updated"
   ]
  },
  {
   "cell_type": "code",
   "execution_count": 2,
   "outputs": [
    {
     "name": "stdout",
     "output_type": "stream",
     "text": [
      "Python\n"
     ]
    }
   ],
   "source": [
    "# Illustration of Strings Immutability\n",
    "string1 = \"Python\"\n",
    "print(string1)"
   ],
   "metadata": {
    "collapsed": false,
    "pycharm": {
     "name": "#%%\n"
    }
   }
  },
  {
   "cell_type": "code",
   "execution_count": 3,
   "outputs": [
    {
     "ename": "TypeError",
     "evalue": "'str' object does not support item assignment",
     "output_type": "error",
     "traceback": [
      "\u001B[1;31m---------------------------------------------------------------------------\u001B[0m",
      "\u001B[1;31mTypeError\u001B[0m                                 Traceback (most recent call last)",
      "\u001B[1;32m<ipython-input-3-299d6df847fc>\u001B[0m in \u001B[0;36m<module>\u001B[1;34m\u001B[0m\n\u001B[1;32m----> 1\u001B[1;33m \u001B[0mstring1\u001B[0m\u001B[1;33m[\u001B[0m\u001B[1;36m1\u001B[0m\u001B[1;33m]\u001B[0m \u001B[1;33m=\u001B[0m \u001B[1;34m\"i\"\u001B[0m\u001B[1;33m\u001B[0m\u001B[1;33m\u001B[0m\u001B[0m\n\u001B[0m",
      "\u001B[1;31mTypeError\u001B[0m: 'str' object does not support item assignment"
     ]
    }
   ],
   "source": [
    "string1[1] = \"i\""
   ],
   "metadata": {
    "collapsed": false,
    "pycharm": {
     "name": "#%%\n"
    }
   }
  },
  {
   "cell_type": "markdown",
   "source": [
    "## Strings are encoded as UTF-8\n",
    "* Python does not detect string literals as bytes.\n",
    "* Assume you declared x variable with a string, then x is considered as string literal\n",
    "* x = \"Hello Python!\"\n",
    "* x is a string literal in Python\n",
    "* x defined as string literal can be converted into bytes format using encode() function\n",
    "* Likewise, any string literal in byte format cane be converted to string format using decode() function\n",
    "\n",
    "Illustration in the following cells:"
   ],
   "metadata": {
    "collapsed": false,
    "pycharm": {
     "name": "#%% md\n"
    }
   }
  },
  {
   "cell_type": "code",
   "execution_count": 17,
   "outputs": [
    {
     "data": {
      "text/plain": "1"
     },
     "execution_count": 17,
     "metadata": {},
     "output_type": "execute_result"
    }
   ],
   "source": [
    "# Assign x to mu\n",
    "x = \"μ\"\n",
    "#Check the length of the string x\n",
    "len(x)"
   ],
   "metadata": {
    "collapsed": false,
    "pycharm": {
     "name": "#%%\n"
    }
   }
  },
  {
   "cell_type": "code",
   "execution_count": 18,
   "outputs": [
    {
     "data": {
      "text/plain": "True"
     },
     "execution_count": 18,
     "metadata": {},
     "output_type": "execute_result"
    }
   ],
   "source": [
    "# Verify if x is string literal format\n",
    "isinstance(x, str)"
   ],
   "metadata": {
    "collapsed": false,
    "pycharm": {
     "name": "#%%\n"
    }
   }
  },
  {
   "cell_type": "code",
   "execution_count": 19,
   "outputs": [
    {
     "data": {
      "text/plain": "False"
     },
     "execution_count": 19,
     "metadata": {},
     "output_type": "execute_result"
    }
   ],
   "source": [
    "# Verify if x is in bytes format\n",
    "isinstance(x, bytes)"
   ],
   "metadata": {
    "collapsed": false,
    "pycharm": {
     "name": "#%%\n"
    }
   }
  },
  {
   "cell_type": "code",
   "execution_count": 20,
   "outputs": [
    {
     "name": "stdout",
     "output_type": "stream",
     "text": [
      "b'\\xce\\xbc'\n"
     ]
    }
   ],
   "source": [
    "# Convert string literal x to bytes format using encode() function\n",
    "x.encode('utf8')\n",
    "y = x.encode('utf8')\n",
    "print(y)"
   ],
   "metadata": {
    "collapsed": false,
    "pycharm": {
     "name": "#%%\n"
    }
   }
  },
  {
   "cell_type": "code",
   "execution_count": 14,
   "outputs": [
    {
     "data": {
      "text/plain": "False"
     },
     "execution_count": 14,
     "metadata": {},
     "output_type": "execute_result"
    }
   ],
   "source": [
    "# Verify if y is string literal format\n",
    "isinstance(y,str)"
   ],
   "metadata": {
    "collapsed": false,
    "pycharm": {
     "name": "#%%\n"
    }
   }
  },
  {
   "cell_type": "code",
   "execution_count": 21,
   "outputs": [
    {
     "data": {
      "text/plain": "True"
     },
     "execution_count": 21,
     "metadata": {},
     "output_type": "execute_result"
    }
   ],
   "source": [
    "# Verify if x is bytes format\n",
    "isinstance(y, bytes)"
   ],
   "metadata": {
    "collapsed": false,
    "pycharm": {
     "name": "#%%\n"
    }
   }
  },
  {
   "cell_type": "code",
   "execution_count": 11,
   "outputs": [
    {
     "data": {
      "text/plain": "'μ'"
     },
     "execution_count": 11,
     "metadata": {},
     "output_type": "execute_result"
    }
   ],
   "source": [
    "# Convert y to string using decode() function\n",
    "y.decode('utf8')"
   ],
   "metadata": {
    "collapsed": false,
    "pycharm": {
     "name": "#%%\n"
    }
   }
  },
  {
   "cell_type": "markdown",
   "source": [
    "## Operations on strings\n",
    "Using re module, i.e., regular expressions module, powerful operations in strings may be performed\n",
    "A few common operations:\n",
    "* Slicing strings\n",
    "* Concatenate strings\n",
    "* Duplication of strings\n",
    "* Strings substitution\n",
    "* Formatting Strings"
   ],
   "metadata": {
    "collapsed": false,
    "pycharm": {
     "name": "#%% md\n"
    }
   }
  },
  {
   "cell_type": "markdown",
   "source": [
    "### Slicing Strings\n",
    "Say a string contains employee ID in this format\n",
    "* Year of joining (four digits)\n",
    "* Department (three characters)\n",
    "* Six digit unique code (Six digits)\n",
    "* Examples:\n",
    "    * 2009HRM9842\n",
    "    * 2017ITO8901\n",
    "* Say you want to extract year, department or unique empolyee code\n",
    "* You would use strings slicing operations"
   ],
   "metadata": {
    "collapsed": false,
    "pycharm": {
     "name": "#%% md\n"
    }
   }
  },
  {
   "cell_type": "code",
   "execution_count": 1,
   "outputs": [],
   "source": [
    "# Assign employee ID 1 and Employee ID 2\n",
    "empID1 = \"2009HRM9842\"\n",
    "empID2 = \"2017ITO8901\""
   ],
   "metadata": {
    "collapsed": false,
    "pycharm": {
     "name": "#%%\n"
    }
   }
  },
  {
   "cell_type": "markdown",
   "source": [
    "* Python is zero indexed\n",
    "* Value in the first position begins at position 0\n",
    "* Value in the last position is identified at n-1\n",
    "* Values between 0 and n-1 may be accordingly found\n",
    "* When slicing, between two positions (m and n), begin the slicing at m-1 and end at n\n",
    "\n",
    "Illustrations provided below:"
   ],
   "metadata": {
    "collapsed": false,
    "pycharm": {
     "name": "#%% md\n"
    }
   }
  },
  {
   "cell_type": "code",
   "execution_count": 9,
   "outputs": [
    {
     "data": {
      "text/plain": "'2'"
     },
     "execution_count": 9,
     "metadata": {},
     "output_type": "execute_result"
    }
   ],
   "source": [
    "## Extract first element in empID1\n",
    "empID1[0]\n",
    "## Extract last element in empID1\n",
    "empID1[10] #orempID1[-1]"
   ],
   "metadata": {
    "collapsed": false,
    "pycharm": {
     "name": "#%%\n"
    }
   }
  },
  {
   "cell_type": "code",
   "execution_count": 2,
   "outputs": [
    {
     "data": {
      "text/plain": "'2017'"
     },
     "execution_count": 2,
     "metadata": {},
     "output_type": "execute_result"
    }
   ],
   "source": [
    "# Extract year from Employee ID 1 and Employee ID 2\n",
    "empID1[0:4]\n",
    "empID2[0:4]"
   ],
   "metadata": {
    "collapsed": false,
    "pycharm": {
     "name": "#%%\n"
    }
   }
  },
  {
   "cell_type": "code",
   "execution_count": 32,
   "outputs": [
    {
     "data": {
      "text/plain": "'HRM'"
     },
     "execution_count": 32,
     "metadata": {},
     "output_type": "execute_result"
    }
   ],
   "source": [
    "# Extract Department\n",
    "empID1[4:7]"
   ],
   "metadata": {
    "collapsed": false,
    "pycharm": {
     "name": "#%%\n"
    }
   }
  },
  {
   "cell_type": "code",
   "execution_count": 33,
   "outputs": [
    {
     "data": {
      "text/plain": "'ITO'"
     },
     "execution_count": 33,
     "metadata": {},
     "output_type": "execute_result"
    }
   ],
   "source": [
    "empID2[4:7]"
   ],
   "metadata": {
    "collapsed": false,
    "pycharm": {
     "name": "#%%\n"
    }
   }
  },
  {
   "cell_type": "code",
   "execution_count": 35,
   "outputs": [
    {
     "data": {
      "text/plain": "'9842'"
     },
     "execution_count": 35,
     "metadata": {},
     "output_type": "execute_result"
    }
   ],
   "source": [
    "# Extract Unique Code\n",
    "empID1[7:11]"
   ],
   "metadata": {
    "collapsed": false,
    "pycharm": {
     "name": "#%%\n"
    }
   }
  },
  {
   "cell_type": "code",
   "execution_count": 36,
   "outputs": [
    {
     "data": {
      "text/plain": "'8901'"
     },
     "execution_count": 36,
     "metadata": {},
     "output_type": "execute_result"
    }
   ],
   "source": [
    "empID2[7:11]"
   ],
   "metadata": {
    "collapsed": false,
    "pycharm": {
     "name": "#%%\n"
    }
   }
  },
  {
   "cell_type": "code",
   "execution_count": 11,
   "outputs": [
    {
     "data": {
      "text/plain": "'09HRM9842'"
     },
     "execution_count": 11,
     "metadata": {},
     "output_type": "execute_result"
    }
   ],
   "source": [
    "# Select all values from 2nd position to the last position\n",
    "empID1[2:]"
   ],
   "metadata": {
    "collapsed": false,
    "pycharm": {
     "name": "#%%\n"
    }
   }
  },
  {
   "cell_type": "code",
   "execution_count": 13,
   "outputs": [
    {
     "data": {
      "text/plain": "'20'"
     },
     "execution_count": 13,
     "metadata": {},
     "output_type": "execute_result"
    }
   ],
   "source": [
    "# Select all values from 0'th position to 2nd position\n",
    "empID1[:2]"
   ],
   "metadata": {
    "collapsed": false,
    "pycharm": {
     "name": "#%%\n"
    }
   }
  },
  {
   "cell_type": "markdown",
   "source": [
    "## Concatenate Strings\n",
    "* use \"+\" operator to concatenate strings. or\n",
    "* use both strings with parantheses and without comma (Note: Do not assign strings to variables)"
   ],
   "metadata": {
    "collapsed": false,
    "pycharm": {
     "name": "#%% md\n"
    }
   }
  },
  {
   "cell_type": "code",
   "execution_count": 21,
   "outputs": [
    {
     "name": "stdout",
     "output_type": "stream",
     "text": [
      "BITS\n",
      "Pilani\n",
      "BITSPilani\n",
      "BITS Pilani!\n"
     ]
    }
   ],
   "source": [
    "# Concatenate strings with \"+\" operator\n",
    "string1 = \"BITS\"\n",
    "string2 = \"Pilani\"\n",
    "print(string1)\n",
    "print(string2)\n",
    "print(string1 + string2) #concatenate two strings\n",
    "print(string1 + \" \" + string2 +\"!\") #concatenate two strings with space and exclamation"
   ],
   "metadata": {
    "collapsed": false,
    "pycharm": {
     "name": "#%%\n"
    }
   }
  },
  {
   "cell_type": "code",
   "execution_count": 25,
   "outputs": [
    {
     "data": {
      "text/plain": "'BITSPilani'"
     },
     "execution_count": 25,
     "metadata": {},
     "output_type": "execute_result"
    }
   ],
   "source": [
    "(\"BITS\" \"Pilani\")"
   ],
   "metadata": {
    "collapsed": false,
    "pycharm": {
     "name": "#%%\n"
    }
   }
  },
  {
   "cell_type": "code",
   "execution_count": 27,
   "outputs": [
    {
     "name": "stdout",
     "output_type": "stream",
     "text": [
      "BITSPilani\n",
      "BITS Pilani!\n"
     ]
    }
   ],
   "source": [
    "# Concatenate strings with parantheses\n",
    "print((\"BITS\" \"Pilani\")) #concatenate two strings\n",
    "print((\"BITS\" \" \" \"Pilani\" \"!\")) #concatenate two strings with space and exclamation"
   ],
   "metadata": {
    "collapsed": false,
    "pycharm": {
     "name": "#%%\n"
    }
   }
  },
  {
   "cell_type": "markdown",
   "source": [
    "## Duplication of strings\n",
    "* use \"*\" operator to duplicate strings"
   ],
   "metadata": {
    "collapsed": false,
    "pycharm": {
     "name": "#%% md\n"
    }
   }
  },
  {
   "cell_type": "code",
   "execution_count": 18,
   "outputs": [
    {
     "data": {
      "text/plain": "'BITSBITSBITSBITSBITS'"
     },
     "execution_count": 18,
     "metadata": {},
     "output_type": "execute_result"
    }
   ],
   "source": [
    "# Duplicate string1 for five times\n",
    "string1 = \"BITS\"\n",
    "string1 * 5"
   ],
   "metadata": {
    "collapsed": false,
    "pycharm": {
     "name": "#%%\n"
    }
   }
  },
  {
   "cell_type": "code",
   "execution_count": 19,
   "outputs": [
    {
     "data": {
      "text/plain": "'PilaniPilaniPilani'"
     },
     "execution_count": 19,
     "metadata": {},
     "output_type": "execute_result"
    }
   ],
   "source": [
    "# Duplicate string \"Pilani\" thrice\n",
    "'Pilani'*3 #or \"Pilani\"*3"
   ],
   "metadata": {
    "collapsed": false,
    "pycharm": {
     "name": "#%%\n"
    }
   }
  },
  {
   "cell_type": "code",
   "execution_count": 20,
   "outputs": [
    {
     "data": {
      "text/plain": "'PilaniPilaniPilani'"
     },
     "execution_count": 20,
     "metadata": {},
     "output_type": "execute_result"
    }
   ],
   "source": [
    "\"Pilani\"*3"
   ],
   "metadata": {
    "collapsed": false,
    "pycharm": {
     "name": "#%%\n"
    }
   }
  },
  {
   "cell_type": "markdown",
   "source": [
    "* use replace() function from re module (regular expressions module)"
   ],
   "metadata": {
    "collapsed": false,
    "pycharm": {
     "name": "#%% md\n"
    }
   }
  },
  {
   "cell_type": "code",
   "execution_count": 28,
   "outputs": [
    {
     "data": {
      "text/plain": "'BITS Goa'"
     },
     "execution_count": 28,
     "metadata": {},
     "output_type": "execute_result"
    }
   ],
   "source": [
    "string1 = \"BITS Pilani\"\n",
    "string2 = \"Goa\"\n",
    "\n",
    "#substitute Pilani with Goa in string1\n",
    "\n",
    "string1.replace('Pilani', 'Goa')"
   ],
   "metadata": {
    "collapsed": false,
    "pycharm": {
     "name": "#%%\n"
    }
   }
  },
  {
   "cell_type": "markdown",
   "source": [
    "## Formatting Strings\n",
    "Several methods to format strings in Python. A few techniques discussed below:\n",
    "* Append type followed by value (in paranthesis)\n",
    "* use \"+\" operator to combine string and value\n",
    "\n",
    "Note:\n",
    "* use %d for integer data types\n",
    "* use %f for float data types\n",
    "* use 5s for string data types\n",
    "\n",
    "Illustrations shown below:"
   ],
   "metadata": {
    "collapsed": false,
    "pycharm": {
     "name": "#%% md\n"
    }
   }
  },
  {
   "cell_type": "code",
   "execution_count": 30,
   "outputs": [
    {
     "data": {
      "text/plain": "'The result of 5x3 = 15'"
     },
     "execution_count": 30,
     "metadata": {},
     "output_type": "execute_result"
    }
   ],
   "source": [
    "# Append type followed by value (in paranthesis)\n",
    "\"The result of 5x3 = %d\" %(15)"
   ],
   "metadata": {
    "collapsed": false,
    "pycharm": {
     "name": "#%%\n"
    }
   }
  },
  {
   "cell_type": "code",
   "execution_count": 34,
   "outputs": [
    {
     "data": {
      "text/plain": "'The result of 5x3.5 = 17'"
     },
     "execution_count": 34,
     "metadata": {},
     "output_type": "execute_result"
    }
   ],
   "source": [
    "# Append type followed by value (in paranthesis): integer data type\n",
    "\"The result of 5x3.5 = %d\" %(17.5)"
   ],
   "metadata": {
    "collapsed": false,
    "pycharm": {
     "name": "#%%\n"
    }
   }
  },
  {
   "cell_type": "code",
   "execution_count": 32,
   "outputs": [
    {
     "data": {
      "text/plain": "'The result of 10/4 = 2.500000'"
     },
     "execution_count": 32,
     "metadata": {},
     "output_type": "execute_result"
    }
   ],
   "source": [
    "# Append type followed by value (in paranthesis) : float data type\n",
    "\"The result of 10/4 = %f\" %(2.5)"
   ],
   "metadata": {
    "collapsed": false,
    "pycharm": {
     "name": "#%%\n"
    }
   }
  },
  {
   "cell_type": "code",
   "execution_count": 33,
   "outputs": [
    {
     "data": {
      "text/plain": "'You are programming in Python'"
     },
     "execution_count": 33,
     "metadata": {},
     "output_type": "execute_result"
    }
   ],
   "source": [
    "# Append type followed by value (in paranthesis) : string data type\n",
    "\"You are programming in %s\" %(\"Python\")"
   ],
   "metadata": {
    "collapsed": false,
    "pycharm": {
     "name": "#%%\n"
    }
   }
  },
  {
   "cell_type": "code",
   "execution_count": 37,
   "outputs": [
    {
     "data": {
      "text/plain": "'The result of 5x3 = 15'"
     },
     "execution_count": 37,
     "metadata": {},
     "output_type": "execute_result"
    }
   ],
   "source": [
    "# Append using + operator: integer data type\n",
    "\"The result of 5x3 = \" +str(15)"
   ],
   "metadata": {
    "collapsed": false,
    "pycharm": {
     "name": "#%%\n"
    }
   }
  },
  {
   "cell_type": "code",
   "execution_count": 38,
   "outputs": [
    {
     "data": {
      "text/plain": "'The result of 10/4 = 2.5'"
     },
     "execution_count": 38,
     "metadata": {},
     "output_type": "execute_result"
    }
   ],
   "source": [
    "# Append using + operator : float data type\n",
    "\"The result of 10/4 = \" +str(10/4)"
   ],
   "metadata": {
    "collapsed": false,
    "pycharm": {
     "name": "#%%\n"
    }
   }
  },
  {
   "cell_type": "code",
   "execution_count": 39,
   "outputs": [
    {
     "data": {
      "text/plain": "'You are programming in Python'"
     },
     "execution_count": 39,
     "metadata": {},
     "output_type": "execute_result"
    }
   ],
   "source": [
    "# Append using + operator : string data type\n",
    "\"You are programming in \" +str(\"Python\")"
   ],
   "metadata": {
    "collapsed": false,
    "pycharm": {
     "name": "#%%\n"
    }
   }
  },
  {
   "cell_type": "code",
   "execution_count": null,
   "outputs": [],
   "source": [],
   "metadata": {
    "collapsed": false,
    "pycharm": {
     "name": "#%%\n"
    }
   }
  }
 ],
 "metadata": {
  "kernelspec": {
   "display_name": "Python 3",
   "language": "python",
   "name": "python3"
  },
  "language_info": {
   "codemirror_mode": {
    "name": "ipython",
    "version": 3
   },
   "file_extension": ".py",
   "mimetype": "text/x-python",
   "name": "python",
   "nbconvert_exporter": "python",
   "pygments_lexer": "ipython3",
   "version": "3.8.8"
  }
 },
 "nbformat": 4,
 "nbformat_minor": 5
}