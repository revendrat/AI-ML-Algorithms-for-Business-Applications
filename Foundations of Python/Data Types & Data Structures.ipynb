{
 "cells": [
  {
   "cell_type": "markdown",
   "id": "fc549e6a",
   "metadata": {},
   "source": [
    "# Foundations of Python\n",
    "\n",
    "1.   Data Types & Data Structures\n",
    "2.   Basic Operations\n",
    "3.   Functions & Packages"
   ]
  },
  {
   "cell_type": "markdown",
   "id": "e6bc0f72",
   "metadata": {},
   "source": [
    "## Agenda on Topic 1 Data Types & Data Structures:\n",
    "\n",
    "1.   Check the version of installed Python\n",
    "2.   Know the keywords of Python <br/>    2.1 Do not use keywords as variables, or function names, or module names\n",
    "3.   Data Types <br>\n",
    "  3.1 Numbers <br>\n",
    "  3.2 Strings <br>\n",
    "  3.3 Complex Numbers<br>\n",
    "  3.4 <br>\n",
    "4. Operations <br>\n",
    "  4.1 Arithmetic <br>\n",
    "  4.2 Assignment <br>\n",
    "  4.3 Comparison <br>\n",
    "  4.4 Logical <br>\n",
    "  4.5 Bitwise <br>\n",
    "  4.6 Identity <br>\n",
    "  4.7 Membership <br>\n",
    "5. Data Structures <br>\n",
    "  5.1 Lists <br>\n",
    "  5.2 Tuples <br>\n",
    "  5.3 Dictionaries <br>\n",
    "  5.4 Sets <br>"
   ]
  },
  {
   "cell_type": "code",
   "execution_count": 2,
   "id": "35ef8717",
   "metadata": {},
   "outputs": [
    {
     "name": "stdout",
     "output_type": "stream",
     "text": [
      "Python 3.8.8\n"
     ]
    }
   ],
   "source": [
    "#Check the python version\n",
    "!python --version"
   ]
  },
  {
   "cell_type": "code",
   "execution_count": 3,
   "id": "d76df2c9",
   "metadata": {},
   "outputs": [
    {
     "name": "stdout",
     "output_type": "stream",
     "text": [
      "['False', 'None', 'True', 'and', 'as', 'assert', 'async', 'await', 'break', 'class', 'continue', 'def', 'del', 'elif', 'else', 'except', 'finally', 'for', 'from', 'global', 'if', 'import', 'in', 'is', 'lambda', 'nonlocal', 'not', 'or', 'pass', 'raise', 'return', 'try', 'while', 'with', 'yield']\n"
     ]
    }
   ],
   "source": [
    "# List of keywords are available from the keyword module\n",
    "import keyword\n",
    "print(keyword.kwlist)"
   ]
  },
  {
   "cell_type": "markdown",
   "id": "a709457a",
   "metadata": {},
   "source": [
    "## Numeric Data Types\n",
    "* Integers\n",
    "* Real numbers"
   ]
  },
  {
   "cell_type": "code",
   "execution_count": 17,
   "id": "7219097a",
   "metadata": {},
   "outputs": [
    {
     "name": "stdout",
     "output_type": "stream",
     "text": [
      "66\n",
      "67.0\n",
      "<class 'int'>\n",
      "<class 'float'>\n"
     ]
    }
   ],
   "source": [
    "#Converts a real number (float) to an integer\n",
    "print(int(66.6666666666))\n",
    "\n",
    "#Converts an integer to a real number (float)\n",
    "print(float(67))\n",
    "\n",
    "# Check the data type using \"type\" function\n",
    "## Results in integer data type\n",
    "print(type(66))\n",
    "\n",
    "## Results in a real number (float) data type\n",
    "print(type(float(67)))\n"
   ]
  },
  {
   "cell_type": "code",
   "execution_count": null,
   "id": "e2affd41",
   "metadata": {},
   "outputs": [],
   "source": []
  },
  {
   "cell_type": "markdown",
   "id": "e5748989",
   "metadata": {},
   "source": [
    "### Numbers and Arithmetic\n",
    "  * \"+\" for addition\n",
    "  * \"-\" for substraction\n",
    "  * \"*\" multiplication\n",
    "  * \"/\" division\n",
    "  * \"**\" or pow() for exponentiation\n",
    "  * \"%\" modulus to extract remainder\n",
    "  * \"//\" floor division to extract quotient\n"
   ]
  },
  {
   "cell_type": "code",
   "execution_count": 4,
   "id": "032b3b9b",
   "metadata": {},
   "outputs": [
    {
     "data": {
      "text/plain": [
       "10"
      ]
     },
     "execution_count": 4,
     "metadata": {},
     "output_type": "execute_result"
    }
   ],
   "source": [
    "# addition using \"+\"\n",
    "3+7"
   ]
  },
  {
   "cell_type": "code",
   "execution_count": 5,
   "id": "4b05a2e2",
   "metadata": {},
   "outputs": [
    {
     "data": {
      "text/plain": [
       "2"
      ]
     },
     "execution_count": 5,
     "metadata": {},
     "output_type": "execute_result"
    }
   ],
   "source": [
    "# subtraction using \"-\"\n",
    "9-7"
   ]
  },
  {
   "cell_type": "code",
   "execution_count": 6,
   "id": "a12a55aa",
   "metadata": {},
   "outputs": [
    {
     "data": {
      "text/plain": [
       "56"
      ]
     },
     "execution_count": 6,
     "metadata": {},
     "output_type": "execute_result"
    }
   ],
   "source": [
    "# multiplication using \"*\"\n",
    "7*8"
   ]
  },
  {
   "cell_type": "code",
   "execution_count": 7,
   "id": "e0c72a19",
   "metadata": {},
   "outputs": [
    {
     "data": {
      "text/plain": [
       "6.0"
      ]
     },
     "execution_count": 7,
     "metadata": {},
     "output_type": "execute_result"
    }
   ],
   "source": [
    "# division using \"/\"\n",
    "18/3"
   ]
  },
  {
   "cell_type": "code",
   "execution_count": 10,
   "id": "0d2fb253",
   "metadata": {},
   "outputs": [
    {
     "data": {
      "text/plain": [
       "4"
      ]
     },
     "execution_count": 10,
     "metadata": {},
     "output_type": "execute_result"
    }
   ],
   "source": [
    "# integer division through double slash\n",
    "# results in quotient\n",
    "9//2"
   ]
  },
  {
   "cell_type": "code",
   "execution_count": 14,
   "id": "9ef93368",
   "metadata": {},
   "outputs": [
    {
     "data": {
      "text/plain": [
       "6"
      ]
     },
     "execution_count": 14,
     "metadata": {},
     "output_type": "execute_result"
    }
   ],
   "source": [
    "# modulus results in remainder\n",
    "9%2\n",
    "13%7"
   ]
  },
  {
   "cell_type": "markdown",
   "id": "16787424",
   "metadata": {},
   "source": [
    "#### Using multiple arithmetic operators\n",
    "$FV= (PV*(1+r/n)^{nt})$ <br>\n",
    "where: <br>\n",
    "* PV = present value of money (say 1000 rupees)\n",
    "* FV = future value of money (to be calculated)\n",
    "* r = interest rate (say 6.25%)\n",
    "* n = number of compounding periods (semi-anually)\n",
    "* t = number of years (5 years)"
   ]
  },
  {
   "cell_type": "code",
   "execution_count": 8,
   "id": "c60b0ccb",
   "metadata": {},
   "outputs": [
    {
     "data": {
      "text/plain": [
       "1360.3154027780997"
      ]
     },
     "execution_count": 8,
     "metadata": {},
     "output_type": "execute_result"
    }
   ],
   "source": [
    "# Calculation of future value using ** for exponentiation\n",
    "1000*(1+0.0625/2)**(2*5) "
   ]
  },
  {
   "cell_type": "code",
   "execution_count": 9,
   "id": "a7d62561",
   "metadata": {},
   "outputs": [
    {
     "data": {
      "text/plain": [
       "1360.3154027780997"
      ]
     },
     "execution_count": 9,
     "metadata": {},
     "output_type": "execute_result"
    }
   ],
   "source": [
    "# Calculation of future value using pow() for exponentiation\n",
    "1000*pow((1+0.0625/2), 2*5)"
   ]
  },
  {
   "cell_type": "code",
   "execution_count": null,
   "id": "8aba13cc",
   "metadata": {},
   "outputs": [],
   "source": []
  },
  {
   "cell_type": "markdown",
   "id": "0574ba59",
   "metadata": {},
   "source": [
    "## Complex Numbers Data Types\n",
    "* Python provides basic support to complex numbers. \n",
    "* Recommend to use Numpy module for operations on complex numbers\n",
    "* Complex numbers represented using \"j\" or \"J\"\n",
    "* Use a numeric value before j, so that Python recognises it as a complex data type\n",
    "* In case using j or J is difficult to represent complex numbers, then use the function complex() to represent complex numbers \n",
    "* Use \"real\" to extract real numbers from complex numbers\n",
    "* Use \"imag\" to extract imaginary part from complex numbers"
   ]
  },
  {
   "cell_type": "code",
   "execution_count": 27,
   "id": "655c2c87",
   "metadata": {},
   "outputs": [
    {
     "ename": "NameError",
     "evalue": "name 'j' is not defined",
     "output_type": "error",
     "traceback": [
      "\u001b[1;31m---------------------------------------------------------------------------\u001b[0m",
      "\u001b[1;31mNameError\u001b[0m                                 Traceback (most recent call last)",
      "\u001b[1;32m<ipython-input-27-710b290cc070>\u001b[0m in \u001b[0;36m<module>\u001b[1;34m\u001b[0m\n\u001b[0;32m      1\u001b[0m \u001b[1;31m# The below line of code fails as 'j' is not defined\u001b[0m\u001b[1;33m\u001b[0m\u001b[1;33m\u001b[0m\u001b[1;33m\u001b[0m\u001b[0m\n\u001b[1;32m----> 2\u001b[1;33m \u001b[0mtype\u001b[0m\u001b[1;33m(\u001b[0m\u001b[0mj\u001b[0m\u001b[1;33m)\u001b[0m\u001b[1;33m\u001b[0m\u001b[1;33m\u001b[0m\u001b[0m\n\u001b[0m",
      "\u001b[1;31mNameError\u001b[0m: name 'j' is not defined"
     ]
    }
   ],
   "source": [
    "# The below line of code fails as 'j' is not defined\n",
    "type(j)\n"
   ]
  },
  {
   "cell_type": "code",
   "execution_count": 28,
   "id": "a4eeb455",
   "metadata": {},
   "outputs": [
    {
     "data": {
      "text/plain": [
       "complex"
      ]
     },
     "execution_count": 28,
     "metadata": {},
     "output_type": "execute_result"
    }
   ],
   "source": [
    "# now try this with a number attached to complex form 'j'\n",
    "type(1j) #or\n",
    "type (1-2j)"
   ]
  },
  {
   "cell_type": "code",
   "execution_count": 29,
   "id": "92dffa2d",
   "metadata": {},
   "outputs": [
    {
     "data": {
      "text/plain": [
       "(1-2j)"
      ]
     },
     "execution_count": 29,
     "metadata": {},
     "output_type": "execute_result"
    }
   ],
   "source": [
    "1-2j # is same as\n",
    "complex(1,-2)"
   ]
  },
  {
   "cell_type": "code",
   "execution_count": 31,
   "id": "b06819a1",
   "metadata": {},
   "outputs": [
    {
     "name": "stdout",
     "output_type": "stream",
     "text": [
      "1.0\n",
      "-2.0\n"
     ]
    }
   ],
   "source": [
    "cnum = 1-2j\n",
    "print(cnum.real)\n",
    "print(cnum.imag)"
   ]
  },
  {
   "cell_type": "markdown",
   "id": "1f64994f",
   "metadata": {},
   "source": [
    "### Operations on complex numbers\n",
    "* Addition\n",
    "* Subtraction\n",
    "* Multiplication\n",
    "* Division"
   ]
  },
  {
   "cell_type": "code",
   "execution_count": 33,
   "id": "1369d2b9",
   "metadata": {},
   "outputs": [
    {
     "data": {
      "text/plain": [
       "(3-1j)"
      ]
     },
     "execution_count": 33,
     "metadata": {},
     "output_type": "execute_result"
    }
   ],
   "source": [
    "# Addition\n",
    "1+2j+2-3j"
   ]
  },
  {
   "cell_type": "code",
   "execution_count": 34,
   "id": "7cf0354f",
   "metadata": {},
   "outputs": [
    {
     "data": {
      "text/plain": [
       "(3-1j)"
      ]
     },
     "execution_count": 34,
     "metadata": {},
     "output_type": "execute_result"
    }
   ],
   "source": [
    "# Addition\n",
    "complex(1+2j) + complex(2-3j)"
   ]
  },
  {
   "cell_type": "code",
   "execution_count": 36,
   "id": "59d43168",
   "metadata": {},
   "outputs": [
    {
     "data": {
      "text/plain": [
       "(-1+5j)"
      ]
     },
     "execution_count": 36,
     "metadata": {},
     "output_type": "execute_result"
    }
   ],
   "source": [
    "# Subtraction\n",
    "1+2j-(2-3j) "
   ]
  },
  {
   "cell_type": "code",
   "execution_count": null,
   "id": "a5f9ee57",
   "metadata": {},
   "outputs": [],
   "source": [
    "# Subtraction\n",
    "complex(1+2j) - complex(2-3j)"
   ]
  },
  {
   "cell_type": "code",
   "execution_count": 39,
   "id": "95a61294",
   "metadata": {},
   "outputs": [
    {
     "data": {
      "text/plain": [
       "(8+1j)"
      ]
     },
     "execution_count": 39,
     "metadata": {},
     "output_type": "execute_result"
    }
   ],
   "source": [
    "# Multiplication\n",
    "(1+2j)*(2-3j) "
   ]
  },
  {
   "cell_type": "code",
   "execution_count": 38,
   "id": "d27135ff",
   "metadata": {},
   "outputs": [
    {
     "data": {
      "text/plain": [
       "(8+1j)"
      ]
     },
     "execution_count": 38,
     "metadata": {},
     "output_type": "execute_result"
    }
   ],
   "source": [
    "# Multiplication\n",
    "complex(1+2j) * complex(2-3j)"
   ]
  },
  {
   "cell_type": "code",
   "execution_count": 45,
   "id": "78d4d7cc",
   "metadata": {},
   "outputs": [
    {
     "data": {
      "text/plain": [
       "(0.3-0.1j)"
      ]
     },
     "execution_count": 45,
     "metadata": {},
     "output_type": "execute_result"
    }
   ],
   "source": [
    "# Division\n",
    "(1+1j)/(2+4j) "
   ]
  },
  {
   "cell_type": "code",
   "execution_count": 47,
   "id": "a105dcad",
   "metadata": {},
   "outputs": [
    {
     "data": {
      "text/plain": [
       "(0.3-0.1j)"
      ]
     },
     "execution_count": 47,
     "metadata": {},
     "output_type": "execute_result"
    }
   ],
   "source": [
    "# Division\n",
    "complex(1+1j) / complex(2+4j)"
   ]
  },
  {
   "cell_type": "code",
   "execution_count": null,
   "id": "3d7b9f97",
   "metadata": {},
   "outputs": [],
   "source": [
    "abs()"
   ]
  }
 ],
 "metadata": {
  "kernelspec": {
   "display_name": "Python 3",
   "language": "python",
   "name": "python3"
  },
  "language_info": {
   "codemirror_mode": {
    "name": "ipython",
    "version": 3
   },
   "file_extension": ".py",
   "mimetype": "text/x-python",
   "name": "python",
   "nbconvert_exporter": "python",
   "pygments_lexer": "ipython3",
   "version": "3.8.8"
  }
 },
 "nbformat": 4,
 "nbformat_minor": 5
}
