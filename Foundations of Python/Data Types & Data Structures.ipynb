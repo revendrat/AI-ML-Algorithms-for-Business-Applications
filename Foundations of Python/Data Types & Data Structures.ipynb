{
 "cells": [
  {
   "cell_type": "markdown",
   "id": "9dc49deb",
   "metadata": {},
   "source": [
    "# Foundations of Python\n",
    "\n",
    "1.   Data Types & Data Structures\n",
    "2.   Basic Operations\n",
    "3.   Functions & Packages"
   ]
  },
  {
   "cell_type": "markdown",
   "id": "ac7031e2",
   "metadata": {},
   "source": [
    "## Agenda on Topic 1 Data Types & Data Structures:\n",
    "\n",
    "1.   Check the version of installed Python\n",
    "2.   Know the keywords of Python <br/>    2.1 Do not use keywords as variables, or function names, or module names\n",
    "3.   Data Types <br>\n",
    "  3.1 Numbers <br>\n",
    "  3.2 Strings <br>\n",
    "  3.3 Complex Numbers<br>\n",
    "  3.4 <br>\n",
    "4. Operations <br>\n",
    "  4.1 Arithmetic <br>\n",
    "  4.2 Assignment <br>\n",
    "  4.3 Comparison <br>\n",
    "  4.4 Logical <br>\n",
    "  4.5 Bitwise <br>\n",
    "  4.6 Identity <br>\n",
    "  4.7 Membership <br>\n",
    "5. Data Structures <br>\n",
    "  5.1 Lists <br>\n",
    "  5.2 Tuples <br>\n",
    "  5.3 Dictionaries <br>\n",
    "  5.4 Sets <br>"
   ]
  },
  {
   "cell_type": "code",
   "execution_count": 2,
   "id": "bd98518f",
   "metadata": {},
   "outputs": [
    {
     "name": "stdout",
     "output_type": "stream",
     "text": [
      "Python 3.8.8\n"
     ]
    }
   ],
   "source": [
    "#Check the python version\n",
    "!python --version"
   ]
  },
  {
   "cell_type": "code",
   "execution_count": 3,
   "id": "1c657d91",
   "metadata": {},
   "outputs": [
    {
     "name": "stdout",
     "output_type": "stream",
     "text": [
      "['False', 'None', 'True', 'and', 'as', 'assert', 'async', 'await', 'break', 'class', 'continue', 'def', 'del', 'elif', 'else', 'except', 'finally', 'for', 'from', 'global', 'if', 'import', 'in', 'is', 'lambda', 'nonlocal', 'not', 'or', 'pass', 'raise', 'return', 'try', 'while', 'with', 'yield']\n"
     ]
    }
   ],
   "source": [
    "# List of keywords are available from the keyword module\n",
    "import keyword\n",
    "print(keyword.kwlist)"
   ]
  },
  {
   "cell_type": "markdown",
   "id": "190db4bb",
   "metadata": {},
   "source": [
    "## Numeric Data Types\n",
    "* Integers\n",
    "* Real numbers"
   ]
  },
  {
   "cell_type": "code",
   "execution_count": 17,
   "id": "7b3067d9",
   "metadata": {},
   "outputs": [
    {
     "name": "stdout",
     "output_type": "stream",
     "text": [
      "66\n",
      "67.0\n",
      "<class 'int'>\n",
      "<class 'float'>\n"
     ]
    }
   ],
   "source": [
    "#Converts a real number (float) to an integer\n",
    "print(int(66.6666666666))\n",
    "\n",
    "#Converts an integer to a real number (float)\n",
    "print(float(67))\n",
    "\n",
    "# Check the data type using \"type\" function\n",
    "## Results in integer data type\n",
    "print(type(66))\n",
    "\n",
    "## Results in a real number (float) data type\n",
    "print(type(float(67)))\n"
   ]
  },
  {
   "cell_type": "code",
   "execution_count": null,
   "id": "25fdd13a",
   "metadata": {},
   "outputs": [],
   "source": []
  },
  {
   "cell_type": "markdown",
   "id": "8ae59ad0",
   "metadata": {},
   "source": [
    "### Numbers and Arithmetic\n",
    "  * \"+\" for addition\n",
    "  * \"-\" for substraction\n",
    "  * \"*\" multiplication\n",
    "  * \"/\" division\n",
    "  * \"**\" or pow() for exponentiation\n",
    "  * \"%\" modulus to extract remainder\n",
    "  * \"//\" floor division to extract quotient\n"
   ]
  },
  {
   "cell_type": "code",
   "execution_count": 4,
   "id": "f17b8bd5",
   "metadata": {},
   "outputs": [
    {
     "data": {
      "text/plain": [
       "10"
      ]
     },
     "execution_count": 4,
     "metadata": {},
     "output_type": "execute_result"
    }
   ],
   "source": [
    "# addition using \"+\"\n",
    "3+7"
   ]
  },
  {
   "cell_type": "code",
   "execution_count": 5,
   "id": "e1c660dd",
   "metadata": {},
   "outputs": [
    {
     "data": {
      "text/plain": [
       "2"
      ]
     },
     "execution_count": 5,
     "metadata": {},
     "output_type": "execute_result"
    }
   ],
   "source": [
    "# subtraction using \"-\"\n",
    "9-7"
   ]
  },
  {
   "cell_type": "code",
   "execution_count": 6,
   "id": "ba1374e3",
   "metadata": {},
   "outputs": [
    {
     "data": {
      "text/plain": [
       "56"
      ]
     },
     "execution_count": 6,
     "metadata": {},
     "output_type": "execute_result"
    }
   ],
   "source": [
    "# multiplication using \"*\"\n",
    "7*8"
   ]
  },
  {
   "cell_type": "code",
   "execution_count": 7,
   "id": "86cc8ae2",
   "metadata": {},
   "outputs": [
    {
     "data": {
      "text/plain": [
       "6.0"
      ]
     },
     "execution_count": 7,
     "metadata": {},
     "output_type": "execute_result"
    }
   ],
   "source": [
    "# division using \"/\"\n",
    "18/3"
   ]
  },
  {
   "cell_type": "code",
   "execution_count": 10,
   "id": "a3c126e6",
   "metadata": {},
   "outputs": [
    {
     "data": {
      "text/plain": [
       "4"
      ]
     },
     "execution_count": 10,
     "metadata": {},
     "output_type": "execute_result"
    }
   ],
   "source": [
    "# integer division through double slash\n",
    "# results in quotient\n",
    "9//2"
   ]
  },
  {
   "cell_type": "code",
   "execution_count": 14,
   "id": "52983197",
   "metadata": {},
   "outputs": [
    {
     "data": {
      "text/plain": [
       "6"
      ]
     },
     "execution_count": 14,
     "metadata": {},
     "output_type": "execute_result"
    }
   ],
   "source": [
    "# modulus results in remainder\n",
    "9%2\n",
    "13%7"
   ]
  },
  {
   "cell_type": "markdown",
   "id": "b9f70cb6",
   "metadata": {},
   "source": [
    "#### Using multiple arithmetic operators\n",
    "$FV= (PV*(1+r/n)^{nt})$ <br>\n",
    "where: <br>\n",
    "* PV = present value of money (say 1000 rupees)\n",
    "* FV = future value of money (to be calculated)\n",
    "* r = interest rate (say 6.25%)\n",
    "* n = number of compounding periods (semi-anually)\n",
    "* t = number of years (5 years)"
   ]
  },
  {
   "cell_type": "code",
   "execution_count": 8,
   "id": "22ef8172",
   "metadata": {},
   "outputs": [
    {
     "data": {
      "text/plain": [
       "1360.3154027780997"
      ]
     },
     "execution_count": 8,
     "metadata": {},
     "output_type": "execute_result"
    }
   ],
   "source": [
    "# Calculation of future value using ** for exponentiation\n",
    "1000*(1+0.0625/2)**(2*5) "
   ]
  },
  {
   "cell_type": "code",
   "execution_count": 9,
   "id": "02220214",
   "metadata": {},
   "outputs": [
    {
     "data": {
      "text/plain": [
       "1360.3154027780997"
      ]
     },
     "execution_count": 9,
     "metadata": {},
     "output_type": "execute_result"
    }
   ],
   "source": [
    "# Calculation of future value using pow() for exponentiation\n",
    "1000*pow((1+0.0625/2), 2*5)"
   ]
  },
  {
   "cell_type": "code",
   "execution_count": null,
   "id": "86d66960",
   "metadata": {},
   "outputs": [],
   "source": []
  },
  {
   "cell_type": "markdown",
   "id": "85faef7a",
   "metadata": {},
   "source": [
    "## Complex Numbers Data Types\n",
    "* Python provides basic support to complex numbers. \n",
    "* Recommend to use Numpy module for operations on complex numbers\n",
    "* Complex numbers represented using \"j\" or \"J\"\n",
    "* Use a numeric value before j, so that Python recognises it as a complex data type\n",
    "* In case using j or J is difficult to represent complex numbers, then use the function complex() to represent complex numbers \n",
    "* Use \"real\" to extract real numbers from complex numbers\n",
    "* Use \"imag\" to extract imaginary part from complex numbers"
   ]
  },
  {
   "cell_type": "code",
   "execution_count": 27,
   "id": "6de98f90",
   "metadata": {},
   "outputs": [
    {
     "ename": "NameError",
     "evalue": "name 'j' is not defined",
     "output_type": "error",
     "traceback": [
      "\u001b[1;31m---------------------------------------------------------------------------\u001b[0m",
      "\u001b[1;31mNameError\u001b[0m                                 Traceback (most recent call last)",
      "\u001b[1;32m<ipython-input-27-710b290cc070>\u001b[0m in \u001b[0;36m<module>\u001b[1;34m\u001b[0m\n\u001b[0;32m      1\u001b[0m \u001b[1;31m# The below line of code fails as 'j' is not defined\u001b[0m\u001b[1;33m\u001b[0m\u001b[1;33m\u001b[0m\u001b[1;33m\u001b[0m\u001b[0m\n\u001b[1;32m----> 2\u001b[1;33m \u001b[0mtype\u001b[0m\u001b[1;33m(\u001b[0m\u001b[0mj\u001b[0m\u001b[1;33m)\u001b[0m\u001b[1;33m\u001b[0m\u001b[1;33m\u001b[0m\u001b[0m\n\u001b[0m",
      "\u001b[1;31mNameError\u001b[0m: name 'j' is not defined"
     ]
    }
   ],
   "source": [
    "# The below line of code throws an error as 'j' is not defined\n",
    "type(j)\n"
   ]
  },
  {
   "cell_type": "code",
   "execution_count": 28,
   "id": "64a18cdc",
   "metadata": {},
   "outputs": [
    {
     "data": {
      "text/plain": [
       "complex"
      ]
     },
     "execution_count": 28,
     "metadata": {},
     "output_type": "execute_result"
    }
   ],
   "source": [
    "# now try this with a number attached to complex form 'j'\n",
    "type(1j) #or\n",
    "type (1-2j)"
   ]
  },
  {
   "cell_type": "code",
   "execution_count": 29,
   "id": "af1945bb",
   "metadata": {},
   "outputs": [
    {
     "data": {
      "text/plain": [
       "(1-2j)"
      ]
     },
     "execution_count": 29,
     "metadata": {},
     "output_type": "execute_result"
    }
   ],
   "source": [
    "1-2j # is same as\n",
    "complex(1,-2)"
   ]
  },
  {
   "cell_type": "code",
   "execution_count": 31,
   "id": "829fc5f3",
   "metadata": {},
   "outputs": [
    {
     "name": "stdout",
     "output_type": "stream",
     "text": [
      "1.0\n",
      "-2.0\n"
     ]
    }
   ],
   "source": [
    "cnum = 1-2j\n",
    "print(cnum.real)\n",
    "print(cnum.imag)"
   ]
  },
  {
   "cell_type": "markdown",
   "id": "06740376",
   "metadata": {},
   "source": [
    "### Operations on complex numbers\n",
    "* Addition\n",
    "* Subtraction\n",
    "* Multiplication\n",
    "* Division"
   ]
  },
  {
   "cell_type": "code",
   "execution_count": 33,
   "id": "7bcbfa23",
   "metadata": {},
   "outputs": [
    {
     "data": {
      "text/plain": [
       "(3-1j)"
      ]
     },
     "execution_count": 33,
     "metadata": {},
     "output_type": "execute_result"
    }
   ],
   "source": [
    "# Addition\n",
    "1+2j+2-3j"
   ]
  },
  {
   "cell_type": "code",
   "execution_count": 34,
   "id": "cda1a078",
   "metadata": {},
   "outputs": [
    {
     "data": {
      "text/plain": [
       "(3-1j)"
      ]
     },
     "execution_count": 34,
     "metadata": {},
     "output_type": "execute_result"
    }
   ],
   "source": [
    "# Addition\n",
    "complex(1+2j) + complex(2-3j)"
   ]
  },
  {
   "cell_type": "code",
   "execution_count": 36,
   "id": "7b7ab56c",
   "metadata": {},
   "outputs": [
    {
     "data": {
      "text/plain": [
       "(-1+5j)"
      ]
     },
     "execution_count": 36,
     "metadata": {},
     "output_type": "execute_result"
    }
   ],
   "source": [
    "# Subtraction\n",
    "1+2j-(2-3j) "
   ]
  },
  {
   "cell_type": "code",
   "execution_count": null,
   "id": "6d7c4959",
   "metadata": {},
   "outputs": [],
   "source": [
    "# Subtraction\n",
    "complex(1+2j) - complex(2-3j)"
   ]
  },
  {
   "cell_type": "code",
   "execution_count": 39,
   "id": "3189c0bf",
   "metadata": {},
   "outputs": [
    {
     "data": {
      "text/plain": [
       "(8+1j)"
      ]
     },
     "execution_count": 39,
     "metadata": {},
     "output_type": "execute_result"
    }
   ],
   "source": [
    "# Multiplication\n",
    "(1+2j)*(2-3j) "
   ]
  },
  {
   "cell_type": "code",
   "execution_count": 38,
   "id": "3e8f0bc9",
   "metadata": {},
   "outputs": [
    {
     "data": {
      "text/plain": [
       "(8+1j)"
      ]
     },
     "execution_count": 38,
     "metadata": {},
     "output_type": "execute_result"
    }
   ],
   "source": [
    "# Multiplication\n",
    "complex(1+2j) * complex(2-3j)"
   ]
  },
  {
   "cell_type": "code",
   "execution_count": 45,
   "id": "954cb652",
   "metadata": {},
   "outputs": [
    {
     "data": {
      "text/plain": [
       "(0.3-0.1j)"
      ]
     },
     "execution_count": 45,
     "metadata": {},
     "output_type": "execute_result"
    }
   ],
   "source": [
    "# Division\n",
    "(1+1j)/(2+4j) "
   ]
  },
  {
   "cell_type": "code",
   "execution_count": 47,
   "id": "be12f479",
   "metadata": {},
   "outputs": [
    {
     "data": {
      "text/plain": [
       "(0.3-0.1j)"
      ]
     },
     "execution_count": 47,
     "metadata": {},
     "output_type": "execute_result"
    }
   ],
   "source": [
    "# Division\n",
    "complex(1+1j) / complex(2+4j)"
   ]
  },
  {
   "cell_type": "code",
   "execution_count": 48,
   "id": "cd596504",
   "metadata": {},
   "outputs": [
    {
     "data": {
      "text/plain": [
       "5.0"
      ]
     },
     "execution_count": 48,
     "metadata": {},
     "output_type": "execute_result"
    }
   ],
   "source": [
    "# Absolute value of a complex number\n",
    "abs(3+4j) # is equivalent to (3+4j)*(3-4j)"
   ]
  },
  {
   "cell_type": "code",
   "execution_count": 49,
   "id": "31fb2bf1",
   "metadata": {},
   "outputs": [
    {
     "data": {
      "text/plain": [
       "(25+0j)"
      ]
     },
     "execution_count": 49,
     "metadata": {},
     "output_type": "execute_result"
    }
   ],
   "source": [
    "(3+4j)*(3-4j)"
   ]
  },
  {
   "cell_type": "markdown",
   "id": "17fda208",
   "metadata": {},
   "source": [
    "## Strings Data Type\n",
    "* Python handles strings with sophistication\n",
    "* Single or doble quotes define a string\n",
    "* Backslash \\ is considered as an escape character for strings in Python"
   ]
  },
  {
   "cell_type": "code",
   "execution_count": 50,
   "id": "8fc2b4b6",
   "metadata": {},
   "outputs": [
    {
     "data": {
      "text/plain": [
       "'hello'"
      ]
     },
     "execution_count": 50,
     "metadata": {},
     "output_type": "execute_result"
    }
   ],
   "source": [
    "'Hello'\n",
    "# the above line declares a string which is equivalent to declaration in the below line\n",
    "\"hello\""
   ]
  },
  {
   "cell_type": "code",
   "execution_count": 51,
   "id": "f519622e",
   "metadata": {},
   "outputs": [
    {
     "data": {
      "text/plain": [
       "'hello'"
      ]
     },
     "execution_count": 51,
     "metadata": {},
     "output_type": "execute_result"
    }
   ],
   "source": [
    "\"hello\""
   ]
  },
  {
   "cell_type": "code",
   "execution_count": 52,
   "id": "aa52eed0",
   "metadata": {},
   "outputs": [
    {
     "data": {
      "text/plain": [
       "'Insert \"double quote\" between two single quotes'"
      ]
     },
     "execution_count": 52,
     "metadata": {},
     "output_type": "execute_result"
    }
   ],
   "source": [
    "'Insert \"double quote\" between two single quotes'"
   ]
  },
  {
   "cell_type": "code",
   "execution_count": 54,
   "id": "88e41b58",
   "metadata": {},
   "outputs": [
    {
     "data": {
      "text/plain": [
       "'Insert \"double quote\" between two double quotes using an escape character'"
      ]
     },
     "execution_count": 54,
     "metadata": {},
     "output_type": "execute_result"
    }
   ],
   "source": [
    "\"Insert \\\"double quote\\\" between two double quotes using an escape character\""
   ]
  },
  {
   "cell_type": "code",
   "execution_count": 56,
   "id": "7917b7ea",
   "metadata": {},
   "outputs": [
    {
     "data": {
      "text/plain": [
       "\"How's it?\""
      ]
     },
     "execution_count": 56,
     "metadata": {},
     "output_type": "execute_result"
    }
   ],
   "source": [
    "# Use double quotes to inlcude single quote within a string\n",
    "\"How's it?\""
   ]
  },
  {
   "cell_type": "code",
   "execution_count": 61,
   "id": "e87a5997",
   "metadata": {},
   "outputs": [
    {
     "data": {
      "text/plain": [
       "\"How's it?\""
      ]
     },
     "execution_count": 61,
     "metadata": {},
     "output_type": "execute_result"
    }
   ],
   "source": [
    "# Use escape character to inlcude single quote within a string\n",
    "'How\\'s it?'"
   ]
  },
  {
   "cell_type": "code",
   "execution_count": 60,
   "id": "362d284a",
   "metadata": {},
   "outputs": [
    {
     "data": {
      "text/plain": [
       "'It\\'s, \"out!\"'"
      ]
     },
     "execution_count": 60,
     "metadata": {},
     "output_type": "execute_result"
    }
   ],
   "source": [
    "# Use the following format to include single quote as well as double quotes in a string.\n",
    "# Use escape character for a single quote, and leave double quotes as such\n",
    "'It\\'s, \"out!\"'"
   ]
  },
  {
   "cell_type": "code",
   "execution_count": null,
   "id": "abf7452a",
   "metadata": {},
   "outputs": [],
   "source": []
  }
 ],
 "metadata": {
  "kernelspec": {
   "display_name": "Python 3",
   "language": "python",
   "name": "python3"
  },
  "language_info": {
   "codemirror_mode": {
    "name": "ipython",
    "version": 3
   },
   "file_extension": ".py",
   "mimetype": "text/x-python",
   "name": "python",
   "nbconvert_exporter": "python",
   "pygments_lexer": "ipython3",
   "version": "3.8.8"
  }
 },
 "nbformat": 4,
 "nbformat_minor": 5
}
